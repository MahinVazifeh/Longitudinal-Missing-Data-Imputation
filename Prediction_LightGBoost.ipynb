{
 "cells": [
  {
   "cell_type": "code",
   "execution_count": 42,
   "id": "5aa57a05",
   "metadata": {
    "collapsed": true
   },
   "outputs": [
    {
     "name": "stdout",
     "output_type": "stream",
     "text": [
      "Collecting imblearn\n",
      "  Downloading imblearn-0.0-py2.py3-none-any.whl (1.9 kB)\n",
      "Collecting imbalanced-learn\n",
      "  Downloading imbalanced_learn-0.10.1-py3-none-any.whl (226 kB)\n",
      "Requirement already satisfied: joblib>=1.1.1 in c:\\users\\mahin vazifehdan\\appdata\\local\\programs\\python\\python37\\lib\\site-packages (from imbalanced-learn->imblearn) (1.2.0)\n",
      "Requirement already satisfied: threadpoolctl>=2.0.0 in c:\\users\\mahin vazifehdan\\appdata\\local\\programs\\python\\python37\\lib\\site-packages (from imbalanced-learn->imblearn) (3.1.0)\n",
      "Requirement already satisfied: scikit-learn>=1.0.2 in c:\\users\\mahin vazifehdan\\appdata\\local\\programs\\python\\python37\\lib\\site-packages (from imbalanced-learn->imblearn) (1.0.2)\n",
      "Requirement already satisfied: numpy>=1.17.3 in c:\\users\\mahin vazifehdan\\appdata\\local\\programs\\python\\python37\\lib\\site-packages (from imbalanced-learn->imblearn) (1.21.6)\n",
      "Requirement already satisfied: scipy>=1.3.2 in c:\\users\\mahin vazifehdan\\appdata\\local\\programs\\python\\python37\\lib\\site-packages (from imbalanced-learn->imblearn) (1.7.3)\n",
      "Installing collected packages: imbalanced-learn, imblearn\n",
      "Successfully installed imbalanced-learn-0.10.1 imblearn-0.0\n"
     ]
    },
    {
     "name": "stderr",
     "output_type": "stream",
     "text": [
      "WARNING: You are using pip version 20.1.1; however, version 23.0.1 is available.\n",
      "You should consider upgrading via the 'c:\\users\\mahin vazifehdan\\appdata\\local\\programs\\python\\python37\\python.exe -m pip install --upgrade pip' command.\n"
     ]
    }
   ],
   "source": [
    "# Installing necessary libraries\n",
    "!pip install imblearn "
   ]
  },
  {
   "cell_type": "code",
   "execution_count": 2,
   "id": "57b5a113",
   "metadata": {},
   "outputs": [],
   "source": [
    "# Basic Libraries\n",
    "from collections import Counter\n",
    "import pandas  as pd\n",
    "import numpy as np\n",
    "import matplotlib.pyplot as plt\n",
    "import os\n",
    "\n",
    "#Preprocessing\n",
    "from sklearn import preprocessing\n",
    "from sklearn.preprocessing import StandardScaler\n",
    "from sklearn.preprocessing import MinMaxScaler\n",
    "from imblearn.pipeline import Pipeline\n",
    "\n",
    "#Classifier\n",
    "from lightgbm import LGBMRegressor\n",
    "\n",
    "#Evaluation\n",
    "from sklearn.metrics import confusion_matrix, classification_report\n",
    "from sklearn.model_selection import train_test_split\n",
    "from sklearn.model_selection import cross_val_score\n",
    "from sklearn.model_selection import RepeatedStratifiedKFold \n",
    "from sklearn.metrics import make_scorer, accuracy_score, precision_score, recall_score, f1_score,roc_auc_score\n",
    "from sklearn.model_selection import cross_validate"
   ]
  },
  {
   "cell_type": "code",
   "execution_count": 9,
   "id": "ae06eae1",
   "metadata": {
    "collapsed": true
   },
   "outputs": [
    {
     "name": "stdout",
     "output_type": "stream",
     "text": [
      "dataset:imputed_data_cart\n",
      "best cross-validation score: 0.926\n",
      "best C value: 100\n",
      "test-set score: 0.922\n",
      "**************************************************\n",
      "dataset:imputed_data_cart\n",
      "best cross-validation score: 0.933\n",
      "best C value: 200\n",
      "test-set score: 0.929\n",
      "**************************************************\n",
      "dataset:imputed_data_cart\n",
      "best cross-validation score: 0.936\n",
      "best C value: 300\n",
      "test-set score: 0.932\n",
      "**************************************************\n",
      "dataset:imputed_data_cart\n",
      "best cross-validation score: 0.937\n",
      "best C value: 400\n",
      "test-set score: 0.934\n",
      "**************************************************\n",
      "dataset:imputed_data_continuous\n",
      "best cross-validation score: 0.909\n",
      "best C value: 100\n",
      "test-set score: 0.907\n",
      "**************************************************\n",
      "dataset:imputed_data_continuous\n",
      "best cross-validation score: 0.918\n",
      "best C value: 200\n",
      "test-set score: 0.916\n",
      "**************************************************\n",
      "dataset:imputed_data_continuous\n",
      "best cross-validation score: 0.921\n",
      "best C value: 300\n",
      "test-set score: 0.921\n",
      "**************************************************\n",
      "dataset:imputed_data_continuous\n",
      "best cross-validation score: 0.923\n",
      "best C value: 400\n",
      "test-set score: 0.923\n",
      "**************************************************\n",
      "dataset:imputed_data_EWMA\n",
      "best cross-validation score: 0.839\n",
      "best C value: 100\n",
      "test-set score: 0.854\n",
      "**************************************************\n",
      "dataset:imputed_data_EWMA\n",
      "best cross-validation score: 0.86\n",
      "best C value: 200\n",
      "test-set score: 0.875\n",
      "**************************************************\n",
      "dataset:imputed_data_EWMA\n",
      "best cross-validation score: 0.869\n",
      "best C value: 300\n",
      "test-set score: 0.885\n",
      "**************************************************\n",
      "dataset:imputed_data_EWMA\n",
      "best cross-validation score: 0.874\n",
      "best C value: 400\n",
      "test-set score: 0.889\n",
      "**************************************************\n",
      "dataset:imputed_data_linear\n",
      "best cross-validation score: 0.861\n",
      "best C value: 100\n",
      "test-set score: 0.875\n",
      "**************************************************\n",
      "dataset:imputed_data_linear\n",
      "best cross-validation score: 0.878\n",
      "best C value: 200\n",
      "test-set score: 0.891\n",
      "**************************************************\n",
      "dataset:imputed_data_linear\n",
      "best cross-validation score: 0.886\n",
      "best C value: 300\n",
      "test-set score: 0.899\n",
      "**************************************************\n",
      "dataset:imputed_data_linear\n",
      "best cross-validation score: 0.891\n",
      "best C value: 400\n",
      "test-set score: 0.903\n",
      "**************************************************\n",
      "dataset:imputed_data_rf\n",
      "best cross-validation score: 0.906\n",
      "best C value: 100\n",
      "test-set score: 0.902\n",
      "**************************************************\n",
      "dataset:imputed_data_rf\n",
      "best cross-validation score: 0.913\n",
      "best C value: 200\n",
      "test-set score: 0.910\n",
      "**************************************************\n",
      "dataset:imputed_data_rf\n",
      "best cross-validation score: 0.917\n",
      "best C value: 300\n",
      "test-set score: 0.914\n",
      "**************************************************\n",
      "dataset:imputed_data_rf\n",
      "best cross-validation score: 0.919\n",
      "best C value: 400\n",
      "test-set score: 0.916\n",
      "**************************************************\n"
     ]
    }
   ],
   "source": [
    "# Read Dataset\n",
    "folder_path = 'C:/Users/Mahin Vazifehdan/Desktop/Datasets/Imputed_dataset/'\n",
    "list_path = os.listdir(folder_path)\n",
    "for i in range(len(list_path)):\n",
    "    data = pd.read_csv(folder_path + list_path[i])\n",
    "    # Drop target from dataset for prediction\n",
    "    target = data[\"EDSS_score_assessed_by_clinician\"]\n",
    "    data = data.drop(columns = ['EDSS_score_assessed_by_clinician'], axis = 1)\n",
    "    data = data.drop(columns = ['Date_of_visit'], axis = 1)\n",
    "    # We define our candiate values\n",
    "    num_trees = np.arange(100, 500, 100)\n",
    "    cross_val_scores = []\n",
    "\n",
    "    X_trainval, X_test, y_trainval, y_test = train_test_split(data, target , random_state=42,test_size = 0.2)\n",
    "\n",
    "    for tree in num_trees:\n",
    "        # We define the model with hyper-parameters\n",
    "        lightgboost = LGBMRegressor(n_estimators = tree)\n",
    "        scaler= MinMaxScaler()\n",
    "        steps = [(\"scaler\", scaler), ('regression', lightgboost)]\n",
    "        pipeline = Pipeline(steps=steps)\n",
    "\n",
    "        # Fitting 10 models, and returning 10 scores\n",
    "        scores = cross_val_score(pipeline ,X_trainval, y_trainval, cv=10)\n",
    "        # We record the average score over the 10 folds\n",
    "        cross_val_scores.append(np.mean(scores))\n",
    "        # We can compute the best mean score\n",
    "        print(\"dataset:\" + list_path[i].split(\".\")[0])\n",
    "        print(f\"best cross-validation score: {np.max(cross_val_scores):.3}\")\n",
    "        # and corresponding best parameters\n",
    "        best_num_trees = num_trees[np.argmax(cross_val_scores)]\n",
    "        print(f\"best C value: {best_num_trees}\")\n",
    "        lightgboost = LGBMRegressor(n_estimators = tree)\n",
    "        lightgboost.fit(X_trainval, y_trainval)\n",
    "        print(f\"test-set score: {lightgboost.score(X_test, y_test):.3f}\")\n",
    "        print(\"*\"*50)"
   ]
  },
  {
   "cell_type": "code",
   "execution_count": 73,
   "id": "f2b23228",
   "metadata": {
    "collapsed": true
   },
   "outputs": [
    {
     "data": {
      "text/plain": [
       "Counter({1.0: 2539,\n",
       "         2.5: 1058,\n",
       "         3.0: 852,\n",
       "         4.0: 491,\n",
       "         3.5: 655,\n",
       "         2.0: 2448,\n",
       "         1.5: 2754,\n",
       "         7.0: 297,\n",
       "         5.5: 239,\n",
       "         4.5: 283,\n",
       "         5.0: 166,\n",
       "         6.5: 398,\n",
       "         6.0: 807,\n",
       "         0.0: 1019,\n",
       "         7.5: 106,\n",
       "         9.5: 1,\n",
       "         9.0: 42,\n",
       "         8.5: 21,\n",
       "         8.0: 50})"
      ]
     },
     "execution_count": 73,
     "metadata": {},
     "output_type": "execute_result"
    }
   ],
   "source": [
    "counter = Counter(target)\n",
    "counter"
   ]
  }
 ],
 "metadata": {
  "kernelspec": {
   "display_name": "Python 3 (ipykernel)",
   "language": "python",
   "name": "python3"
  },
  "language_info": {
   "codemirror_mode": {
    "name": "ipython",
    "version": 3
   },
   "file_extension": ".py",
   "mimetype": "text/x-python",
   "name": "python",
   "nbconvert_exporter": "python",
   "pygments_lexer": "ipython3",
   "version": "3.7.9"
  }
 },
 "nbformat": 4,
 "nbformat_minor": 5
}
