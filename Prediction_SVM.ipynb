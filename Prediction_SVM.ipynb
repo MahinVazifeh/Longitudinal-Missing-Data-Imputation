{
 "cells": [
  {
   "cell_type": "code",
   "execution_count": 25,
   "id": "57b5a113",
   "metadata": {},
   "outputs": [],
   "source": [
    "# Basic Libraries\n",
    "from collections import Counter\n",
    "import pandas  as pd\n",
    "import numpy as np\n",
    "import matplotlib.pyplot as plt\n",
    "import os\n",
    "import math\n",
    "\n",
    "#Preprocessing\n",
    "from sklearn import preprocessing\n",
    "from sklearn.preprocessing import MinMaxScaler\n",
    "from imblearn.pipeline import Pipeline\n",
    "\n",
    "#Classifier\n",
    "from sklearn.svm import SVR\n",
    "\n",
    "#Evaluation\n",
    "from sklearn.metrics import confusion_matrix, classification_report\n",
    "from sklearn.model_selection import train_test_split\n",
    "from sklearn.metrics import mean_squared_error, mean_absolute_error\n",
    "from sklearn.model_selection import cross_val_score\n",
    "from sklearn.metrics import make_scorer, accuracy_score, precision_score, recall_score, f1_score,roc_auc_score\n",
    "from sklearn.model_selection import cross_validate"
   ]
  },
  {
   "cell_type": "code",
   "execution_count": 38,
   "id": "2755f70a",
   "metadata": {},
   "outputs": [
    {
     "name": "stdout",
     "output_type": "stream",
     "text": [
      "dataset:imputed_data_cart\n",
      "test-set score: 0.719\n",
      "**************************************************\n",
      "dataset:imputed_data_continuous\n",
      "test-set score: 0.725\n",
      "**************************************************\n",
      "dataset:imputed_data_EWMA\n",
      "test-set score: 0.567\n",
      "**************************************************\n",
      "dataset:imputed_data_linear\n",
      "test-set score: 0.583\n",
      "**************************************************\n",
      "dataset:imputed_data_rf\n",
      "test-set score: 0.681\n",
      "**************************************************\n"
     ]
    }
   ],
   "source": [
    "folder_path = 'C:/Users/Mahin Vazifehdan/Desktop/Datasets/Imputed_dataset/'\n",
    "list_path = os.listdir(folder_path)\n",
    "for i in range(len(list_path)):\n",
    "    data = pd.read_csv(folder_path + list_path[i])\n",
    "    # Drop target from dataset for prediction\n",
    "    target = data[\"EDSS_score_assessed_by_clinician\"]\n",
    "    data = data.drop(columns = ['EDSS_score_assessed_by_clinician'], axis = 1)\n",
    "    data = data.drop(columns = ['Date_of_visit'], axis = 1)\n",
    "    # We define our candiate values\n",
    "    scaler = MinMaxScaler()\n",
    "    data = scaler.fit_transform(data)\n",
    "    print(\"dataset:\" + list_path[i].split(\".\")[0])\n",
    "    X_train, X_test, y_train, y_test = train_test_split(data, target , random_state=42,test_size = 0.2)\n",
    "    model_SVR = SVR(kernel='linear', C=0.8)\n",
    "    model_SVR.fit(X_train, y_train)\n",
    "    #y_pred = model_SVR.predict(X_test)\n",
    "    #y_pred = round_EDSS(y_pred)\n",
    "    #mse = mean_squared_error(y_test, y_pred)\n",
    "    print(f\"test-set score: {model_SVR.score(X_test, y_test):.3f}\")\n",
    "    #print(\"RMSE: \",mse)\n",
    "    print(\"*\"*50)"
   ]
  },
  {
   "cell_type": "code",
   "execution_count": 29,
   "id": "7b35cd83",
   "metadata": {},
   "outputs": [],
   "source": [
    "def round_EDSS(y_prdicted):\n",
    "    temp = []\n",
    "    for y in y_pred:\n",
    "        if (y >= math.floor(y) and y <= (math.floor(y)+ 0.5)):\n",
    "            y = math.floor(y)+ 0.5\n",
    "            temp.append(y)\n",
    "        else:\n",
    "            y = math.ceil(y)\n",
    "            temp.append(y)\n",
    "    return pd.Series(temp)"
   ]
  },
  {
   "cell_type": "code",
   "execution_count": null,
   "id": "6409c068",
   "metadata": {},
   "outputs": [],
   "source": []
  }
 ],
 "metadata": {
  "kernelspec": {
   "display_name": "Python 3 (ipykernel)",
   "language": "python",
   "name": "python3"
  },
  "language_info": {
   "codemirror_mode": {
    "name": "ipython",
    "version": 3
   },
   "file_extension": ".py",
   "mimetype": "text/x-python",
   "name": "python",
   "nbconvert_exporter": "python",
   "pygments_lexer": "ipython3",
   "version": "3.7.9"
  }
 },
 "nbformat": 4,
 "nbformat_minor": 5
}
